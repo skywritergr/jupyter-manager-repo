{
 "cells": [
  {
   "cell_type": "code",
   "execution_count": 1,
   "id": "f41dac9a-679c-4114-b78d-762b589d27bc",
   "metadata": {},
   "outputs": [
    {
     "name": "stdout",
     "output_type": "stream",
     "text": [
      "Defaulting to user installation because normal site-packages is not writeable\n",
      "Requirement already satisfied: PyMuPDF in /Users/georgiosstefanis/Library/Python/3.9/lib/python/site-packages (1.23.26)\n",
      "Requirement already satisfied: nltk in /Users/georgiosstefanis/Library/Python/3.9/lib/python/site-packages (3.8.1)\n",
      "Requirement already satisfied: langchain in /Users/georgiosstefanis/Library/Python/3.9/lib/python/site-packages (0.1.9)\n",
      "Requirement already satisfied: PyMuPDFb==1.23.22 in /Users/georgiosstefanis/Library/Python/3.9/lib/python/site-packages (from PyMuPDF) (1.23.22)\n",
      "Requirement already satisfied: click in /Users/georgiosstefanis/Library/Python/3.9/lib/python/site-packages (from nltk) (8.1.7)\n",
      "Requirement already satisfied: joblib in /Users/georgiosstefanis/Library/Python/3.9/lib/python/site-packages (from nltk) (1.3.2)\n",
      "Requirement already satisfied: regex>=2021.8.3 in /Users/georgiosstefanis/Library/Python/3.9/lib/python/site-packages (from nltk) (2023.12.25)\n",
      "Requirement already satisfied: tqdm in /Users/georgiosstefanis/Library/Python/3.9/lib/python/site-packages (from nltk) (4.66.2)\n",
      "Requirement already satisfied: PyYAML>=5.3 in /Users/georgiosstefanis/Library/Python/3.9/lib/python/site-packages (from langchain) (6.0)\n",
      "Requirement already satisfied: SQLAlchemy<3,>=1.4 in /Users/georgiosstefanis/Library/Python/3.9/lib/python/site-packages (from langchain) (2.0.27)\n",
      "Requirement already satisfied: aiohttp<4.0.0,>=3.8.3 in /Users/georgiosstefanis/Library/Python/3.9/lib/python/site-packages (from langchain) (3.9.3)\n",
      "Requirement already satisfied: async-timeout<5.0.0,>=4.0.0 in /Users/georgiosstefanis/Library/Python/3.9/lib/python/site-packages (from langchain) (4.0.3)\n",
      "Requirement already satisfied: dataclasses-json<0.7,>=0.5.7 in /Users/georgiosstefanis/Library/Python/3.9/lib/python/site-packages (from langchain) (0.6.4)\n",
      "Requirement already satisfied: jsonpatch<2.0,>=1.33 in /Users/georgiosstefanis/Library/Python/3.9/lib/python/site-packages (from langchain) (1.33)\n",
      "Requirement already satisfied: langchain-community<0.1,>=0.0.21 in /Users/georgiosstefanis/Library/Python/3.9/lib/python/site-packages (from langchain) (0.0.24)\n",
      "Requirement already satisfied: langchain-core<0.2,>=0.1.26 in /Users/georgiosstefanis/Library/Python/3.9/lib/python/site-packages (from langchain) (0.1.27)\n",
      "Requirement already satisfied: langsmith<0.2.0,>=0.1.0 in /Users/georgiosstefanis/Library/Python/3.9/lib/python/site-packages (from langchain) (0.1.10)\n",
      "Requirement already satisfied: numpy<2,>=1 in /Users/georgiosstefanis/Library/Python/3.9/lib/python/site-packages (from langchain) (1.24.3)\n",
      "Requirement already satisfied: pydantic<3,>=1 in /Users/georgiosstefanis/Library/Python/3.9/lib/python/site-packages (from langchain) (2.6.3)\n",
      "Requirement already satisfied: requests<3,>=2 in /Users/georgiosstefanis/Library/Python/3.9/lib/python/site-packages (from langchain) (2.30.0)\n",
      "Requirement already satisfied: tenacity<9.0.0,>=8.1.0 in /Users/georgiosstefanis/Library/Python/3.9/lib/python/site-packages (from langchain) (8.2.3)\n",
      "Requirement already satisfied: aiosignal>=1.1.2 in /Users/georgiosstefanis/Library/Python/3.9/lib/python/site-packages (from aiohttp<4.0.0,>=3.8.3->langchain) (1.3.1)\n",
      "Requirement already satisfied: attrs>=17.3.0 in /Users/georgiosstefanis/Library/Python/3.9/lib/python/site-packages (from aiohttp<4.0.0,>=3.8.3->langchain) (23.1.0)\n",
      "Requirement already satisfied: frozenlist>=1.1.1 in /Users/georgiosstefanis/Library/Python/3.9/lib/python/site-packages (from aiohttp<4.0.0,>=3.8.3->langchain) (1.4.1)\n",
      "Requirement already satisfied: multidict<7.0,>=4.5 in /Users/georgiosstefanis/Library/Python/3.9/lib/python/site-packages (from aiohttp<4.0.0,>=3.8.3->langchain) (6.0.5)\n",
      "Requirement already satisfied: yarl<2.0,>=1.0 in /Users/georgiosstefanis/Library/Python/3.9/lib/python/site-packages (from aiohttp<4.0.0,>=3.8.3->langchain) (1.9.4)\n",
      "Requirement already satisfied: marshmallow<4.0.0,>=3.18.0 in /Users/georgiosstefanis/Library/Python/3.9/lib/python/site-packages (from dataclasses-json<0.7,>=0.5.7->langchain) (3.21.0)\n",
      "Requirement already satisfied: typing-inspect<1,>=0.4.0 in /Users/georgiosstefanis/Library/Python/3.9/lib/python/site-packages (from dataclasses-json<0.7,>=0.5.7->langchain) (0.9.0)\n",
      "Requirement already satisfied: jsonpointer>=1.9 in /Users/georgiosstefanis/Library/Python/3.9/lib/python/site-packages (from jsonpatch<2.0,>=1.33->langchain) (2.3)\n",
      "Requirement already satisfied: anyio<5,>=3 in /Users/georgiosstefanis/Library/Python/3.9/lib/python/site-packages (from langchain-core<0.2,>=0.1.26->langchain) (3.6.2)\n",
      "Requirement already satisfied: packaging<24.0,>=23.2 in /Users/georgiosstefanis/Library/Python/3.9/lib/python/site-packages (from langchain-core<0.2,>=0.1.26->langchain) (23.2)\n",
      "Requirement already satisfied: orjson<4.0.0,>=3.9.14 in /Users/georgiosstefanis/Library/Python/3.9/lib/python/site-packages (from langsmith<0.2.0,>=0.1.0->langchain) (3.9.15)\n",
      "Requirement already satisfied: annotated-types>=0.4.0 in /Users/georgiosstefanis/Library/Python/3.9/lib/python/site-packages (from pydantic<3,>=1->langchain) (0.6.0)\n",
      "Requirement already satisfied: pydantic-core==2.16.3 in /Users/georgiosstefanis/Library/Python/3.9/lib/python/site-packages (from pydantic<3,>=1->langchain) (2.16.3)\n",
      "Requirement already satisfied: typing-extensions>=4.6.1 in /Users/georgiosstefanis/Library/Python/3.9/lib/python/site-packages (from pydantic<3,>=1->langchain) (4.10.0)\n",
      "Requirement already satisfied: charset-normalizer<4,>=2 in /Users/georgiosstefanis/Library/Python/3.9/lib/python/site-packages (from requests<3,>=2->langchain) (3.1.0)\n",
      "Requirement already satisfied: idna<4,>=2.5 in /Users/georgiosstefanis/Library/Python/3.9/lib/python/site-packages (from requests<3,>=2->langchain) (3.4)\n",
      "Requirement already satisfied: urllib3<3,>=1.21.1 in /Users/georgiosstefanis/Library/Python/3.9/lib/python/site-packages (from requests<3,>=2->langchain) (1.26.6)\n",
      "Requirement already satisfied: certifi>=2017.4.17 in /Users/georgiosstefanis/Library/Python/3.9/lib/python/site-packages (from requests<3,>=2->langchain) (2023.5.7)\n",
      "Requirement already satisfied: sniffio>=1.1 in /Users/georgiosstefanis/Library/Python/3.9/lib/python/site-packages (from anyio<5,>=3->langchain-core<0.2,>=0.1.26->langchain) (1.3.0)\n",
      "Requirement already satisfied: mypy-extensions>=0.3.0 in /Users/georgiosstefanis/Library/Python/3.9/lib/python/site-packages (from typing-inspect<1,>=0.4.0->dataclasses-json<0.7,>=0.5.7->langchain) (1.0.0)\n",
      "Note: you may need to restart the kernel to use updated packages.\n"
     ]
    }
   ],
   "source": [
    "pip install PyMuPDF nltk langchain"
   ]
  },
  {
   "cell_type": "code",
   "execution_count": 1,
   "id": "5e418e98-3608-4cb9-9c81-03886c742d56",
   "metadata": {},
   "outputs": [
    {
     "name": "stderr",
     "output_type": "stream",
     "text": [
      "/Users/georgiosstefanis/Library/Python/3.9/lib/python/site-packages/urllib3/__init__.py:35: NotOpenSSLWarning: urllib3 v2 only supports OpenSSL 1.1.1+, currently the 'ssl' module is compiled with 'LibreSSL 2.8.3'. See: https://github.com/urllib3/urllib3/issues/3020\n",
      "  warnings.warn(\n",
      "[nltk_data] Downloading package punkt to\n",
      "[nltk_data]     /Users/georgiosstefanis/nltk_data...\n",
      "[nltk_data]   Package punkt is already up-to-date!\n"
     ]
    },
    {
     "data": {
      "text/plain": [
       "True"
      ]
     },
     "execution_count": 1,
     "metadata": {},
     "output_type": "execute_result"
    }
   ],
   "source": [
    "import fitz  # PyMuPDF\n",
    "import nltk\n",
    "from langchain_community.llms import Ollama\n",
    "\n",
    "nltk.download('punkt')"
   ]
  },
  {
   "cell_type": "code",
   "execution_count": 2,
   "id": "b8f7d526-a9fa-4d75-a898-6ac0852f9860",
   "metadata": {},
   "outputs": [],
   "source": [
    "def extract_text_from_pdf(pdf_path):\n",
    "    text = \"\"\n",
    "    with fitz.open(pdf_path) as doc:\n",
    "        for page in doc:\n",
    "            text += page.get_text()\n",
    "    return text"
   ]
  },
  {
   "cell_type": "code",
   "execution_count": 3,
   "id": "a2defc52-2669-43f6-80c2-d1db04f33e15",
   "metadata": {},
   "outputs": [],
   "source": [
    "def tokenize_text(text):\n",
    "    # Using NLTK for tokenization\n",
    "    tokens = nltk.word_tokenize(text)\n",
    "    return tokens\n"
   ]
  },
  {
   "cell_type": "code",
   "execution_count": 4,
   "id": "b6efee85-31b7-40a7-b552-9ed510e6661f",
   "metadata": {},
   "outputs": [],
   "source": [
    "def feed_to_ollama(prompt):\n",
    "    # Initialize Ollama model\n",
    "    model = Ollama()\n",
    "\n",
    "    # Generate response using model.run\n",
    "    response = model(prompt)\n",
    "    \n",
    "\n",
    "    return response\n"
   ]
  },
  {
   "cell_type": "code",
   "execution_count": 5,
   "id": "70419f63",
   "metadata": {},
   "outputs": [],
   "source": [
    "def prepare_context(tokens):\n",
    "    \"\"\"Prepare the context string from tokenized text.\"\"\"\n",
    "    context = \"\\n\".join(tokens)\n",
    "    return context"
   ]
  },
  {
   "cell_type": "code",
   "execution_count": 28,
   "id": "3f254f33-067b-40cd-9b13-7cc2281cc0ae",
   "metadata": {},
   "outputs": [],
   "source": [
    "pdf_path = \"thus.zara.pdf\" \n",
    "text = extract_text_from_pdf(pdf_path)"
   ]
  },
  {
   "cell_type": "code",
   "execution_count": 30,
   "id": "64245ac6-54af-4a4d-be9e-93ccddcfb825",
   "metadata": {},
   "outputs": [],
   "source": [
    "tokens = tokenize_text(text)"
   ]
  },
  {
   "cell_type": "code",
   "execution_count": 31,
   "id": "b0743d3d-f951-4957-ae69-e91e98c47f87",
   "metadata": {},
   "outputs": [],
   "source": [
    "context = prepare_context(tokens)"
   ]
  },
  {
   "cell_type": "code",
   "execution_count": 32,
   "id": "21842681",
   "metadata": {},
   "outputs": [],
   "source": [
    "prompt = \"Roleplay being a manager based on the tone and ideas of the document. Use as many words and sentences from the document as possible. Announce cancelling a project.\"\n",
    "combined_prompt = f\"**Context:** {context}\\n{prompt}\""
   ]
  },
  {
   "cell_type": "code",
   "execution_count": 33,
   "id": "0bfaf674-2537-486a-bd7d-4583b0cfa198",
   "metadata": {},
   "outputs": [],
   "source": [
    "results = feed_to_ollama(combined_prompt)"
   ]
  },
  {
   "cell_type": "code",
   "execution_count": 34,
   "id": "b23e5cba-79a4-45a0-9c04-02d4fc250f84",
   "metadata": {},
   "outputs": [
    {
     "name": "stdout",
     "output_type": "stream",
     "text": [
      "Ah, good morning, everyone! *adjusts glasses* I hope you're all having a lovely day. *smirks* I have some news to share with you all, and it's not exactly... shall we say... \"cheerful.\" *winks*\n",
      "\n",
      "As you know, we've been working on this project for quite some time now, and I must say, it's been a real challenge. *chuckles* But, alas, I have some sad tidings to impart upon you. *pauses*\n",
      "\n",
      "After careful consideration and consultation with our esteemed colleagues, I regret to inform you that we will be cancelling this project. *gulps* Yes, you heard me right. *shakes head* It's... it's just not meant to be. *sniffles*\n",
      "\n",
      "Now, I know some of you may be thinking, \"But what about all the hard work we've put into this project?\" *exaggeratedly* And my dear colleagues, I understand your concerns entirely! *smiles innocently* However, sometimes... *pauses* Well, let's just say that sometimes, things just don't work out as planned. *winks*\n",
      "\n",
      "I know this news may come as a shock to some of you, but trust me when I say that it's for the best. *nods wisely* We must always keep our eyes on the future and be prepared to adapt to any changes that may arise. *adjusts glasses again*\n",
      "\n",
      "So, my dear colleagues, please do not be disheartened by this turn of events. Instead, let us all rally together and continue to work towards even greater successes in the future! *exaggerated applause*\n",
      "\n",
      "Now, if you'll excuse me, I have some... *coughs* administrative tasks to attend to. *smirks* But rest assured, I will always be here to guide and support you all in any way possible. *bows dramatically*\n",
      "\n",
      "And with that, I bid you all farewell! *winks* Have a marvelous day, everyone! *exaggerated bow*\n"
     ]
    }
   ],
   "source": [
    "print(results)"
   ]
  }
 ],
 "metadata": {
  "kernelspec": {
   "display_name": "Python 3 (ipykernel)",
   "language": "python",
   "name": "python3"
  },
  "language_info": {
   "codemirror_mode": {
    "name": "ipython",
    "version": 3
   },
   "file_extension": ".py",
   "mimetype": "text/x-python",
   "name": "python",
   "nbconvert_exporter": "python",
   "pygments_lexer": "ipython3",
   "version": "3.9.6"
  }
 },
 "nbformat": 4,
 "nbformat_minor": 5
}
